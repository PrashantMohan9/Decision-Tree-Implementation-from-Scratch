{
 "cells": [
  {
   "cell_type": "code",
   "execution_count": 1,
   "metadata": {},
   "outputs": [],
   "source": [
    "import pandas as pd\n",
    "import numpy as np"
   ]
  },
  {
   "cell_type": "code",
   "execution_count": 2,
   "metadata": {},
   "outputs": [],
   "source": [
    "def class_counts(rows):\n",
    "    counts = {} \n",
    "    for j in range(len(rows)):\n",
    "        label = rows.iloc[j,-1]\n",
    "        if label not in counts:\n",
    "            counts[label] = 0\n",
    "        counts[label] += 1\n",
    "    return counts"
   ]
  },
  {
   "cell_type": "code",
   "execution_count": 3,
   "metadata": {},
   "outputs": [],
   "source": [
    "def gini(data):\n",
    "    counts = class_counts(data)\n",
    "    impurity = 1\n",
    "    for lbl in counts:\n",
    "        prob_of_lbl = counts[lbl] / float(len(data))\n",
    "        impurity -= prob_of_lbl**2\n",
    "    return impurity\n",
    "    "
   ]
  },
  {
   "cell_type": "code",
   "execution_count": 4,
   "metadata": {},
   "outputs": [],
   "source": [
    "def partition(data,feature, current_value):\n",
    "    true = []\n",
    "    false = []\n",
    "    for i in range(len(data)):\n",
    "        if data[feature][i] == current_value :\n",
    "            true.append(data.iloc[i])\n",
    "        else:\n",
    "            false.append(data.iloc[i])\n",
    "    left = pd.DataFrame(true)\n",
    "    left = left.reset_index(drop=True)\n",
    "    right = pd.DataFrame(false)\n",
    "    right = right.reset_index(drop=True)\n",
    "    return left,right"
   ]
  },
  {
   "cell_type": "code",
   "execution_count": 5,
   "metadata": {},
   "outputs": [],
   "source": [
    "def gain(data,feature,current_value,current_uncertainity):\n",
    "    true,false = partition(data,feature,current_value)\n",
    "    p = float(len(true)) / (len(true) + len(false))\n",
    "    return current_uncertainity - p * gini(true) - (1 - p) * gini(false)"
   ]
  },
  {
   "cell_type": "code",
   "execution_count": 6,
   "metadata": {},
   "outputs": [],
   "source": [
    "def find_best_feature(data, features, current_uncertainity):\n",
    "    best_gain = 0\n",
    "    best_feature = None\n",
    "    value = None\n",
    "    current_uncertainity = gini(data)\n",
    "    for j in range(len(features)):\n",
    "        all_possible_values = set(data[features[j]])\n",
    "        for current_value in all_possible_values:\n",
    "            g = gain(data,features[j],current_value,current_uncertainity)\n",
    "            if(g > best_gain):\n",
    "                best_gain = g\n",
    "                best_feature = features[j]\n",
    "                value = current_value\n",
    "    return best_feature,value,best_gain"
   ]
  },
  {
   "cell_type": "code",
   "execution_count": 7,
   "metadata": {},
   "outputs": [],
   "source": [
    "def dt(data , features , level):\n",
    "    print()\n",
    "    current_uncertainity = gini(data)\n",
    "    true = 0\n",
    "    false = 0\n",
    "    for i in range(len(data)):\n",
    "        if data.iloc[i,-1] == 0:\n",
    "            false += 1\n",
    "        else:\n",
    "            true += 1\n",
    "    if(len(features)==0):\n",
    "        # do not split\n",
    "        print('level :',level)\n",
    "        print(\"Count of 0(False) = \",false)\n",
    "        print(\"Count of 1(True) = \",true)\n",
    "        print(\"Current entropy = \",current_uncertainity)\n",
    "        print(\"Reached leaf node\")\n",
    "        return;\n",
    "    \n",
    "    if len(set(data.iloc[:,-1])) == 1:\n",
    "        print('level :',level)\n",
    "        print(\"Count of 0(False) = \",false)\n",
    "        print(\"Count of 1(True) = \",true)\n",
    "        print(\"Current entropy = \",current_uncertainity)\n",
    "        print(\"Reached leaf node\")\n",
    "        return;\n",
    "    \n",
    "    print('level :',level)\n",
    "    print(\"Count of 0(False) = \",false)\n",
    "    print(\"Count of 1(True) = \",true)\n",
    "    \n",
    "    best_feature,value,gain = find_best_feature(data,features,current_uncertainity)\n",
    "    \n",
    "    left,right = partition(data, best_feature, value)\n",
    "\n",
    "    features.remove(best_feature)\n",
    "    \n",
    "    print(\"Current Entropy is = \",current_uncertainity)\n",
    "    print(\"Splitting on feature \",best_feature,\" with gain ratio\")\n",
    "    print(gain)\n",
    "    \n",
    "    level += 1\n",
    "    \n",
    "    dt(left,features,level)\n",
    "    dt(right,features,level)"
   ]
  },
  {
   "cell_type": "code",
   "execution_count": 8,
   "metadata": {},
   "outputs": [
    {
     "name": "stdout",
     "output_type": "stream",
     "text": [
      "\n",
      "level : 0\n",
      "Count of 0(False) =  1\n",
      "Count of 1(True) =  3\n",
      "Current Entropy is =  0.375\n",
      "Splitting on feature  X1  with gain ratio\n",
      "0.125\n",
      "\n",
      "level : 1\n",
      "Count of 0(False) =  1\n",
      "Count of 1(True) =  1\n",
      "Current Entropy is =  0.5\n",
      "Splitting on feature  X2  with gain ratio\n",
      "0.5\n",
      "\n",
      "level : 2\n",
      "Count of 0(False) =  1\n",
      "Count of 1(True) =  0\n",
      "Current entropy =  0.0\n",
      "Reached leaf node\n",
      "\n",
      "level : 2\n",
      "Count of 0(False) =  0\n",
      "Count of 1(True) =  1\n",
      "Current entropy =  0.0\n",
      "Reached leaf node\n",
      "\n",
      "level : 1\n",
      "Count of 0(False) =  0\n",
      "Count of 1(True) =  2\n",
      "Current entropy =  0.0\n",
      "Reached leaf node\n"
     ]
    }
   ],
   "source": [
    "level = 0\n",
    "data = np.array([[1,1,1],[0,1,1],[1,0,1],[0,0,0]])\n",
    "data = pd.DataFrame(data)\n",
    "data.columns = ['X1','X2','Y']\n",
    "features = ['X1','X2']\n",
    "dt(data, features, level)"
   ]
  }
 ],
 "metadata": {
  "kernelspec": {
   "display_name": "Python 3",
   "language": "python",
   "name": "python3"
  },
  "language_info": {
   "codemirror_mode": {
    "name": "ipython",
    "version": 3
   },
   "file_extension": ".py",
   "mimetype": "text/x-python",
   "name": "python",
   "nbconvert_exporter": "python",
   "pygments_lexer": "ipython3",
   "version": "3.5.2"
  }
 },
 "nbformat": 4,
 "nbformat_minor": 2
}
